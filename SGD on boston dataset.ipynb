{
 "cells": [
  {
   "cell_type": "markdown",
   "metadata": {
    "colab": {},
    "colab_type": "code",
    "id": "REYPoTJ1Af7u"
   },
   "source": [
    "# SGD implementaion on boston dataset"
   ]
  },
  {
   "cell_type": "code",
   "execution_count": null,
   "metadata": {},
   "outputs": [],
   "source": [
    "import warnings\n",
    "warnings.filterwarnings(\"ignore\")\n",
    "from sklearn.datasets import load_boston\n",
    "from random import seed\n",
    "from random import randrange\n",
    "from csv import reader\n",
    "from math import sqrt\n",
    "from sklearn import preprocessing\n",
    "import pandas as pd\n",
    "import numpy as np\n",
    "import matplotlib.pyplot as plt\n",
    "from prettytable import PrettyTable\n",
    "from sklearn.linear_model import SGDRegressor\n",
    "from sklearn import preprocessing\n",
    "from sklearn.metrics import mean_squared_error"
   ]
  },
  {
   "cell_type": "code",
   "execution_count": 2,
   "metadata": {
    "colab": {},
    "colab_type": "code",
    "id": "NTQ2iH-kAwbo"
   },
   "outputs": [],
   "source": [
    "X = load_boston().data\n",
    "Y = load_boston().target"
   ]
  },
  {
   "cell_type": "code",
   "execution_count": 3,
   "metadata": {},
   "outputs": [
    {
     "name": "stdout",
     "output_type": "stream",
     "text": [
      ".. _boston_dataset:\n",
      "\n",
      "Boston house prices dataset\n",
      "---------------------------\n",
      "\n",
      "**Data Set Characteristics:**  \n",
      "\n",
      "    :Number of Instances: 506 \n",
      "\n",
      "    :Number of Attributes: 13 numeric/categorical predictive. Median Value (attribute 14) is usually the target.\n",
      "\n",
      "    :Attribute Information (in order):\n",
      "        - CRIM     per capita crime rate by town\n",
      "        - ZN       proportion of residential land zoned for lots over 25,000 sq.ft.\n",
      "        - INDUS    proportion of non-retail business acres per town\n",
      "        - CHAS     Charles River dummy variable (= 1 if tract bounds river; 0 otherwise)\n",
      "        - NOX      nitric oxides concentration (parts per 10 million)\n",
      "        - RM       average number of rooms per dwelling\n",
      "        - AGE      proportion of owner-occupied units built prior to 1940\n",
      "        - DIS      weighted distances to five Boston employment centres\n",
      "        - RAD      index of accessibility to radial highways\n",
      "        - TAX      full-value property-tax rate per $10,000\n",
      "        - PTRATIO  pupil-teacher ratio by town\n",
      "        - B        1000(Bk - 0.63)^2 where Bk is the proportion of blacks by town\n",
      "        - LSTAT    % lower status of the population\n",
      "        - MEDV     Median value of owner-occupied homes in $1000's\n",
      "\n",
      "    :Missing Attribute Values: None\n",
      "\n",
      "    :Creator: Harrison, D. and Rubinfeld, D.L.\n",
      "\n",
      "This is a copy of UCI ML housing dataset.\n",
      "https://archive.ics.uci.edu/ml/machine-learning-databases/housing/\n",
      "\n",
      "\n",
      "This dataset was taken from the StatLib library which is maintained at Carnegie Mellon University.\n",
      "\n",
      "The Boston house-price data of Harrison, D. and Rubinfeld, D.L. 'Hedonic\n",
      "prices and the demand for clean air', J. Environ. Economics & Management,\n",
      "vol.5, 81-102, 1978.   Used in Belsley, Kuh & Welsch, 'Regression diagnostics\n",
      "...', Wiley, 1980.   N.B. Various transformations are used in the table on\n",
      "pages 244-261 of the latter.\n",
      "\n",
      "The Boston house-price data has been used in many machine learning papers that address regression\n",
      "problems.   \n",
      "     \n",
      ".. topic:: References\n",
      "\n",
      "   - Belsley, Kuh & Welsch, 'Regression diagnostics: Identifying Influential Data and Sources of Collinearity', Wiley, 1980. 244-261.\n",
      "   - Quinlan,R. (1993). Combining Instance-Based and Model-Based Learning. In Proceedings on the Tenth International Conference of Machine Learning, 236-243, University of Massachusetts, Amherst. Morgan Kaufmann.\n",
      "\n"
     ]
    }
   ],
   "source": [
    "print( load_boston().DESCR)"
   ]
  },
  {
   "cell_type": "code",
   "execution_count": 4,
   "metadata": {},
   "outputs": [
    {
     "data": {
      "text/plain": [
       "(506, 13)"
      ]
     },
     "execution_count": 4,
     "metadata": {},
     "output_type": "execute_result"
    }
   ],
   "source": [
    "X.shape"
   ]
  },
  {
   "cell_type": "code",
   "execution_count": 7,
   "metadata": {},
   "outputs": [],
   "source": [
    "from sklearn.model_selection import train_test_split\n",
    "X_train, X_test, Y_train, Y_test = train_test_split(X, Y, test_size=0.33, random_state=0)"
   ]
  },
  {
   "cell_type": "code",
   "execution_count": 8,
   "metadata": {},
   "outputs": [],
   "source": [
    "from sklearn.preprocessing import StandardScaler\n",
    "scaler=StandardScaler()\n",
    "X_train=scaler.fit_transform(X_train)\n",
    "X_test=scaler.transform(X_test)"
   ]
  },
  {
   "cell_type": "code",
   "execution_count": 14,
   "metadata": {},
   "outputs": [],
   "source": [
    "X_sgd1 = pd.DataFrame(X_train)\n",
    "X_test1 = pd.DataFrame(X_test)"
   ]
  },
  {
   "cell_type": "code",
   "execution_count": 23,
   "metadata": {},
   "outputs": [],
   "source": [
    "X_sgd = pd.DataFrame(X_train)\n",
    "X_sgd['price'] = Y_train"
   ]
  },
  {
   "cell_type": "code",
   "execution_count": 62,
   "metadata": {},
   "outputs": [
    {
     "name": "stdout",
     "output_type": "stream",
     "text": [
      "[-0.98190447  0.97199348 -0.3877976   0.59501341 -1.68962218  2.74827702\n",
      " -0.51468686 -3.13985877  1.52201894 -1.04734195 -2.20371533  0.59356596\n",
      " -3.34538858]\n",
      "22.833532692630925\n"
     ]
    }
   ],
   "source": [
    "import numpy as np\n",
    "\n",
    "w2 = np.zeros(13)\n",
    "b2 = 0\n",
    "r=0.01   \n",
    "it = 800 # it = no. of iterations\n",
    "k = 30 # k = batch size\n",
    "for i in range(it):\n",
    "    w1 = np.zeros(13)\n",
    "    b1 = 0\n",
    "    w_random = w2\n",
    "    b_random = b2\n",
    "    df_sample=X_sgd.sample(k)\n",
    "    x=np.array(df_sample.drop('price',axis=1))\n",
    "    y=np.array(df_sample['price'])\n",
    "    for i in range(k):\n",
    "        w1+=(-2)*x[i]*(y[i]-(np.dot(w_random,x[i])+b_random))\n",
    "        #print(w1)\n",
    "        b1+=(-2)*(y[i]-(np.dot(w_random,x[i])+b_random))\n",
    "        #print(b1)\n",
    "    w2 = (w_random - r*(w1/k))\n",
    "    b2 = (b_random - r*(b1/k))\n",
    "    #r=r/2\n",
    "print(w2) \n",
    "print(b2)\n",
    "   "
   ]
  },
  {
   "cell_type": "code",
   "execution_count": 63,
   "metadata": {},
   "outputs": [],
   "source": [
    "from sklearn.metrics import mean_squared_error\n",
    "import matplotlib.pyplot as plt\n",
    "def predict_plot(x , w, b):\n",
    "    Y_pred = []\n",
    "    for i in range(len(x)):\n",
    "        h = np.dot(w , x[i]) + b\n",
    "        #print(h)\n",
    "        Y_pred.append(h)\n",
    "    mse = mean_squared_error (Y_test ,Y_pred)\n",
    "    plt.scatter(Y_test,Y_pred)\n",
    "    return mse   "
   ]
  },
  {
   "cell_type": "code",
   "execution_count": 64,
   "metadata": {},
   "outputs": [
    {
     "data": {
      "text/plain": [
       "26.75342027972301"
      ]
     },
     "execution_count": 64,
     "metadata": {},
     "output_type": "execute_result"
    },
    {
     "data": {
      "image/png": "[encoded data removed]",
      "text/plain": [
       "<Figure size 432x288 with 1 Axes>"
      ]
     },
     "metadata": {
      "needs_background": "light"
     },
     "output_type": "display_data"
    }
   ],
   "source": [
    "a = predict_plot( x = X_test , w=w2, b=b2)\n",
    "a"
   ]
  },
  {
   "cell_type": "code",
   "execution_count": 65,
   "metadata": {},
   "outputs": [],
   "source": [
    "from sklearn.linear_model import SGDRegressor\n",
    "clf = SGDRegressor()\n",
    "clf.fit(X_sgd1, Y_train)\n",
    "Y_pred = clf.predict(X_test1)\n",
    "W = clf.coef_"
   ]
  },
  {
   "cell_type": "code",
   "execution_count": 66,
   "metadata": {},
   "outputs": [
    {
     "data": {
      "text/plain": [
       "array([-0.95422539,  1.02740753, -0.2700045 ,  0.65177238, -1.70197187,\n",
       "        2.6460958 , -0.41102558, -3.08430468,  1.46022829, -1.1244318 ,\n",
       "       -2.28502745,  0.51606674, -3.59642278])"
      ]
     },
     "execution_count": 66,
     "metadata": {},
     "output_type": "execute_result"
    }
   ],
   "source": [
    "W"
   ]
  },
  {
   "cell_type": "code",
   "execution_count": 67,
   "metadata": {},
   "outputs": [
    {
     "name": "stdout",
     "output_type": "stream",
     "text": [
      "mean squared error =  27.074682149001294\n"
     ]
    },
    {
     "data": {
      "text/plain": [
       "<matplotlib.collections.PathCollection at 0x20089b030b8>"
      ]
     },
     "execution_count": 67,
     "metadata": {},
     "output_type": "execute_result"
    },
    {
     "data": {
      "image/png": "[encoded data removed]",
      "text/plain": [
       "<Figure size 432x288 with 1 Axes>"
      ]
     },
     "metadata": {
      "needs_background": "light"
     },
     "output_type": "display_data"
    }
   ],
   "source": [
    "mse1 = mean_squared_error(Y_test , Y_pred)\n",
    "print(\"mean squared error = \", mse1)\n",
    "plt.scatter(Y_test,Y_pred)"
   ]
  },
  {
   "cell_type": "code",
   "execution_count": 68,
   "metadata": {},
   "outputs": [
    {
     "name": "stdout",
     "output_type": "stream",
     "text": [
      "+----------------------+---------------------------+\n",
      "| Weight vector manual | Weight vector SGD sklearn |\n",
      "+----------------------+---------------------------+\n",
      "| -0.9819044689547989  |    -0.9542253930839948    |\n",
      "|  0.971993482986504   |     1.0274075256475663    |\n",
      "| -0.3877976030989595  |    -0.2700044960758244    |\n",
      "|  0.5950134066671307  |     0.6517723816748026    |\n",
      "| -1.6896221758123884  |     -1.701971868037117    |\n",
      "|  2.7482770162701096  |     2.6460958025568133    |\n",
      "| -0.5146868558540071  |    -0.4110255846232721    |\n",
      "|  -3.139858772695699  |    -3.0843046837730688    |\n",
      "|  1.5220189420678059  |     1.4602282852969715    |\n",
      "|  -1.047341949704604  |    -1.1244318038049992    |\n",
      "| -2.2037153342774256  |    -2.2850274548558374    |\n",
      "|  0.5935659551128699  |      0.51606673960296     |\n",
      "| -3.3453885797780205  |    -3.5964227836019687    |\n",
      "+----------------------+---------------------------+\n",
      "\n",
      "+-------------------+--------------------+\n",
      "|     mse manual    |  mse sgd sklearn   |\n",
      "+-------------------+--------------------+\n",
      "| 26.75342027972301 | 27.074682149001294 |\n",
      "+-------------------+--------------------+\n"
     ]
    }
   ],
   "source": [
    "from prettytable import PrettyTable    \n",
    "x = PrettyTable()\n",
    "x.field_names=['Weight vector manual','Weight vector SGD sklearn']\n",
    "for i in range(13):\n",
    "    x.add_row([w2[i],W[i]])\n",
    "print(x)\n",
    "print(\"\")\n",
    "y = PrettyTable()\n",
    "y.field_names=['mse manual','mse sgd sklearn']\n",
    "y.add_row([a , mse1])\n",
    "print(y)"
   ]
  },
  {
   "cell_type": "markdown",
   "metadata": {},
   "source": [
    "Conclusion: \n",
    "\n",
    "1.Used batch size = 30 and iterations = 800 for manual sgd implementation\n",
    "\n",
    "2.Mean squared error is pretty same for manual sgd and sklearn sgd"
   ]
  },
  {
   "cell_type": "code",
   "execution_count": null,
   "metadata": {},
   "outputs": [],
   "source": []
  }
 ],
 "metadata": {
  "colab": {
   "name": "Untitled3.ipynb",
   "provenance": [],
   "version": "0.3.2"
  },
  "kernelspec": {
   "display_name": "Python 3",
   "language": "python",
   "name": "python3"
  },
  "language_info": {
   "codemirror_mode": {
    "name": "ipython",
    "version": 3
   },
   "file_extension": ".py",
   "mimetype": "text/x-python",
   "name": "python",
   "nbconvert_exporter": "python",
   "pygments_lexer": "ipython3",
   "version": "3.6.9"
  }
 },
 "nbformat": 4,
 "nbformat_minor": 1
}
